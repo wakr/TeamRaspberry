{
 "cells": [
  {
   "cell_type": "markdown",
   "metadata": {},
   "source": [
    "# DATA20001 Deep Learning - Group Project\n",
    "## Image project\n",
    "\n",
    "**Due Wednesday December 13, before 23:59.**\n",
    "\n",
    "The task is to learn to assign the correct labels to a set of images.  The images are originally from a photo-sharing site and released under Creative Commons-licenses allowing sharing.  The training set contains 20 000 images. We have resized them and cropped them to 128x128 to make the task a bit more manageable.\n",
    "\n",
    "We're only giving you the code for downloading the data. The rest you'll have to do yourselves.\n",
    "\n",
    "Some comments and hints particular to the image project:\n",
    "\n",
    "- One image may belong to many classes in this problem, i.e., it's a multi-label classification problem. In fact there are images that don't belong to any of our classes, and you should also be able to handle these correctly. Pay careful attention to how you design the outputs of the network (e.g., what activation to use) and what loss function should be used.\n",
    "\n",
    "- As the dataset is pretty imbalanced, don't focus too strictly on the outputs being probabilistic. (Meaning that the right threshold for selecting the label might not be 0.5.)\n",
    "\n",
    "- Image files can be loaded as numpy matrices for example using `imageio.imread`. Most images are color, but a few grayscale. You need to handle the grayscale ones somehow as they would have a different number of color channels (depth) than the color ones.\n",
    "\n",
    "- Loading all the images into one big matrix as we have done in the exercises is not feasible (e.g. the virtual servers in CSC have only 3 GB of RAM). You need to load the images in smaller chunks for the training. This shouldn't be a problem we are doing mini-batch training anyway, and thus we don't need to keep all the images in memory. You can simply pass you current chunk of images to `model.fit()` as it remembers the weights from the previous run.\n",
    "\n",
    "- You need to think carefully about how you load the annotations and match them up with the corresponding images, especially as you are loading them in smaller chunks."
   ]
  },
  {
   "cell_type": "markdown",
   "metadata": {},
   "source": [
    "## Download the data"
   ]
  },
  {
   "cell_type": "code",
   "execution_count": 1,
   "metadata": {},
   "outputs": [
    {
     "name": "stderr",
     "output_type": "stream",
     "text": [
      "Using TensorFlow backend.\n"
     ]
    },
    {
     "name": "stdout",
     "output_type": "stream",
     "text": [
      "Downloading data from https://www.cs.helsinki.fi/u/mvsjober/misc/dl2017-image-proj.zip\n",
      "278323200/279523357 [============================>.] - ETA: 0s"
     ]
    },
    {
     "data": {
      "text/plain": [
       "'./train/dl2017-image-proj.zip'"
      ]
     },
     "execution_count": 1,
     "metadata": {},
     "output_type": "execute_result"
    }
   ],
   "source": [
    "from keras.utils.data_utils import get_file\n",
    "\n",
    "database_path = 'train/'\n",
    "\n",
    "dl_file='dl2017-image-proj.zip'\n",
    "dl_url='https://www.cs.helsinki.fi/u/mvsjober/misc/'\n",
    "get_file(dl_file, dl_url+dl_file, cache_dir='./', cache_subdir=database_path, extract=True)"
   ]
  },
  {
   "cell_type": "markdown",
   "metadata": {},
   "source": [
    "The above command downloaded and extracted the data files into the `train` subdirectory.\n",
    "\n",
    "The images can be found in `train/images`, and are named as `im1.jpg`, `im2.jpg` and so on until `im20000.jpg`.\n",
    "\n",
    "The class labels, or annotations, can be found in `train/annotations` as `CLASSNAME.txt`, where CLASSNAME is one of the fourteen classes: *baby, bird, car, clouds, dog, female, flower, male, night, people, portrait, river, sea,* and *tree*.\n",
    "\n",
    "Each annotation file is a simple text file that lists the images that depict that class, one per line. The images are listed with their number, not the full filename. For example `5969` refers to the image `im5969.jpg`."
   ]
  },
  {
   "cell_type": "markdown",
   "metadata": {},
   "source": [
    "## Your stuff goes here ..."
   ]
  },
  {
   "cell_type": "code",
   "execution_count": 3,
   "metadata": {},
   "outputs": [],
   "source": [
    "%matplotlib inline\n",
    "\n",
    "import matplotlib.pylab as plt\n",
    "import numpy as np\n",
    "from scipy.misc import imread\n",
    "\n",
    "image_count = 20000\n",
    "image_dim = (128, 128, 3) # 128 x 128; RGB\n",
    "\n",
    "num_classes = 14 + 1\n",
    "UNCLASSIFIED_BIT = 14\n",
    "labels = {\n",
    "  0: 'baby',\n",
    "  1: 'bird',\n",
    "  2: 'car',\n",
    "  3: 'clouds',\n",
    "  4: 'dog',\n",
    "  5: 'female',\n",
    "  6: 'flower',\n",
    "  7: 'male',\n",
    "  8: 'night',\n",
    "  9: 'people',\n",
    "  10: 'portrait',\n",
    "  11: 'river',\n",
    "  12: 'sea',\n",
    "  13: 'tree',\n",
    "  UNCLASSIFIED_BIT: \"unclassified\"\n",
    "}\n",
    "\n",
    "labels_rev = {v: k for k, v in labels.items()}\n",
    "\n",
    "# The labels are made into onehot vectors straight away\n",
    "y = np.zeros((image_count, num_classes), dtype=\"uint8\")\n",
    "\n",
    "folder = \"train/annotations/\"\n",
    "for num, label in labels.items():\n",
    "    if num == UNCLASSIFIED_BIT:\n",
    "        continue\n",
    "    with open(folder + label +\".txt\", \"r\") as f:\n",
    "        for line in f.readlines():\n",
    "            # The indexing starts from 1 in dataset, but is converted to starting from 0\n",
    "            y[int(line.strip())-1, num] = 1\n",
    "\n",
    "for row in y:\n",
    "    if sum(row) == 0:\n",
    "        row[UNCLASSIFIED_BIT] = 1"
   ]
  },
  {
   "cell_type": "code",
   "execution_count": 4,
   "metadata": {},
   "outputs": [],
   "source": [
    "# TODO create iterator class\n",
    "\n",
    "def read_x(batch_size, begin_index, y):\n",
    "    # normalizing range to be in 0.0 to 1.0\n",
    "    normalize_values = True\n",
    "\n",
    "    my_dtype = \"uint8\"\n",
    "    if normalize_values:\n",
    "        my_dtype = np.float32\n",
    "\n",
    "    x_color = np.zeros((batch_size, *image_dim), dtype=my_dtype)\n",
    "    end_index = begin_index + batch_size\n",
    "\n",
    "    for i in range(begin_index, end_index):\n",
    "        img = imread(\"train/images/im\" + str(i+1) +\".jpg\")\n",
    "        if normalize_values:\n",
    "            img = img / 255\n",
    "        if len(img.shape) == 3:\n",
    "            x_color[i-begin_index] = img\n",
    "        else:    \n",
    "            x_color[i-begin_index] = np.repeat(img[:,:,np.newaxis], 3, axis=2) # B&W RGB representation\n",
    "\n",
    "    return x_color, y[begin_index:end_index,:]      "
   ]
  },
  {
   "cell_type": "code",
   "execution_count": 5,
   "metadata": {},
   "outputs": [],
   "source": [
    "x_testing, y_testing = read_x(2000, 2000, y)"
   ]
  },
  {
   "cell_type": "code",
   "execution_count": 6,
   "metadata": {},
   "outputs": [
    {
     "data": {
      "text/plain": [
       "(2000, 128, 128, 3)"
      ]
     },
     "execution_count": 6,
     "metadata": {},
     "output_type": "execute_result"
    }
   ],
   "source": [
    "x_testing.shape"
   ]
  },
  {
   "cell_type": "code",
   "execution_count": 7,
   "metadata": {},
   "outputs": [
    {
     "name": "stderr",
     "output_type": "stream",
     "text": [
      "Using TensorFlow backend.\n"
     ]
    }
   ],
   "source": [
    "from keras.models import Sequential\n",
    "from keras.layers import *\n",
    "from keras.optimizers import *\n",
    "from keras.layers.convolutional import Conv2D\n",
    "from keras.layers import BatchNormalization, Dropout"
   ]
  },
  {
   "cell_type": "code",
   "execution_count": 8,
   "metadata": {},
   "outputs": [],
   "source": [
    "from keras import backend as K\n",
    "\n",
    "def f1(y_true, y_pred):\n",
    "    def recall(y_true, y_pred):\n",
    "        \"\"\"Recall metric.\n",
    "\n",
    "        Only computes a batch-wise average of recall.\n",
    "\n",
    "        Computes the recall, a metric for multi-label classification of\n",
    "        how many relevant items are selected.\n",
    "        \"\"\"\n",
    "        true_positives = K.sum(K.round(K.clip(y_true * y_pred, 0, 1)))\n",
    "        possible_positives = K.sum(K.round(K.clip(y_true, 0, 1)))\n",
    "        recall = true_positives / (possible_positives + K.epsilon())\n",
    "        \n",
    "        return recall\n",
    "\n",
    "    def precision(y_true, y_pred):\n",
    "        \"\"\"Precision metric.\n",
    "\n",
    "        Only computes a batch-wise average of precision.\n",
    "\n",
    "        Computes the precision, a metric for multi-label classification of\n",
    "        how many selected items are relevant.\n",
    "        \"\"\"\n",
    "        true_positives = K.sum(K.round(K.clip(y_true * y_pred, 0, 1)))\n",
    "        predicted_positives = K.sum(K.round(K.clip(y_pred, 0, 1)))\n",
    "        precision = true_positives / (predicted_positives + K.epsilon())\n",
    "        \n",
    "        return precision\n",
    "    \n",
    "    precision = precision(y_true, y_pred)\n",
    "    recall = recall(y_true, y_pred)\n",
    "    return 2*((precision*recall)/(precision+recall))"
   ]
  },
  {
   "cell_type": "code",
   "execution_count": 10,
   "metadata": {},
   "outputs": [],
   "source": [
    "# bp mll loss function\n",
    "# y_true, y_pred must be 2D tensors of shape (batch dimension, number of labels)\n",
    "# y_true must satisfy y_true[i][j] == 1 iff sample i has label j\n",
    "def bp_mll_loss(y_true, y_pred):\n",
    " \n",
    "    # get true and false labels\n",
    "    y_i = K.equal(y_true, K.ones_like(y_true))\n",
    "    y_i_bar = K.not_equal(y_true, K.ones_like(y_true))\n",
    "    \n",
    "    # cast to float as keras backend has no logical and\n",
    "    y_i = K.cast(y_i, dtype='float32')\n",
    "    y_i_bar = K.cast(y_i_bar, dtype='float32')\n",
    "\n",
    "    # get indices to check\n",
    "    truth_matrix = pairwise_and(y_i, y_i_bar)\n",
    "\n",
    "    # calculate all exp'd differences\n",
    "    sub_matrix = pairwise_sub(y_pred, y_pred)\n",
    "    exp_matrix = K.exp(-sub_matrix)\n",
    "\n",
    "    # check which differences to consider and sum them\n",
    "    sparse_matrix = exp_matrix * truth_matrix\n",
    "    sums = K.sum(sparse_matrix, axis=[1,2])\n",
    "\n",
    "    # get normalizing terms and apply them\n",
    "    y_i_sizes = K.sum(y_i, axis=1)\n",
    "    y_i_bar_sizes = K.sum(y_i_bar, axis=1)\n",
    "    normalizers = y_i_sizes * y_i_bar_sizes\n",
    "    results = sums / normalizers\n",
    "\n",
    "    # sum over samples\n",
    "    return K.sum(results)\n",
    "\n",
    "# compute pairwise differences between elements of the tensors a and b\n",
    "def pairwise_sub(a, b):\n",
    "    column = K.expand_dims(a, 2)\n",
    "    row = K.expand_dims(b, 1)\n",
    "    return column - row\n",
    "\n",
    "# compute pairwise logical and between elements of the tensors a and b\n",
    "def pairwise_and(a, b):\n",
    "    column = K.expand_dims(a, 2)\n",
    "    row = K.expand_dims(b, 1)\n",
    "    return K.minimum(column, row)"
   ]
  },
  {
   "cell_type": "code",
   "execution_count": 11,
   "metadata": {},
   "outputs": [],
   "source": [
    "# Callback to get micro-averaged F1 score after each epoch\n",
    "import keras\n",
    "from sklearn.metrics import f1_score\n",
    "\n",
    "class MetricsHistory(keras.callbacks.Callback):\n",
    "    def __init__(self, x_test, y_test, threshold=0.5):\n",
    "        self.x_test = x_test\n",
    "        self.y_test = y_test\n",
    "        self.threshold = threshold\n",
    "        \n",
    "        self.epochs = 0\n",
    "        self.train_loss = []\n",
    "        self.train_bin_acc = []\n",
    "        self.test_loss = []\n",
    "        self.test_bin_acc = []\n",
    "        self.test_f1_score_15 = []\n",
    "        self.test_f1_score_14 = []\n",
    "    \n",
    "    def on_epoch_end(self, epoch, logs={}):\n",
    "        \n",
    "        self.epochs += 1\n",
    "        self.train_loss.append(logs.get('loss'))\n",
    "        self.train_bin_acc.append(logs.get('binary_accuracy'))\n",
    "        \n",
    "        pred = model.predict(self.x_test)\n",
    "        pred[np.where(pred > self.threshold)] = 1\n",
    "        pred[np.where(pred <= self.threshold)] = 0\n",
    "        y_pred = pred.astype(np.bool)\n",
    "        \n",
    "        self.test_f1_score_15.append(f1_score(y_test, y_pred, average='micro'))\n",
    "        self.test_f1_score_14.append(f1_score(y_test[:,:-1], y_pred[:,:-1], average='micro'))\n",
    "        \n",
    "        scores = model.evaluate(x_test, y_test, verbose=2)\n",
    "        self.test_loss.append(scores[0])\n",
    "        self.test_bin_acc.append(scores[1])\n",
    "        \n",
    "    "
   ]
  },
  {
   "cell_type": "code",
   "execution_count": 40,
   "metadata": {
    "scrolled": false
   },
   "outputs": [
    {
     "name": "stdout",
     "output_type": "stream",
     "text": [
      "_________________________________________________________________\n",
      "Layer (type)                 Output Shape              Param #   \n",
      "=================================================================\n",
      "conv2d_11 (Conv2D)           (None, 126, 126, 32)      896       \n",
      "_________________________________________________________________\n",
      "activation_15 (Activation)   (None, 126, 126, 32)      0         \n",
      "_________________________________________________________________\n",
      "max_pooling2d_11 (MaxPooling (None, 63, 63, 32)        0         \n",
      "_________________________________________________________________\n",
      "conv2d_12 (Conv2D)           (None, 61, 61, 32)        9248      \n",
      "_________________________________________________________________\n",
      "activation_16 (Activation)   (None, 61, 61, 32)        0         \n",
      "_________________________________________________________________\n",
      "max_pooling2d_12 (MaxPooling (None, 30, 30, 32)        0         \n",
      "_________________________________________________________________\n",
      "conv2d_13 (Conv2D)           (None, 28, 28, 64)        18496     \n",
      "_________________________________________________________________\n",
      "activation_17 (Activation)   (None, 28, 28, 64)        0         \n",
      "_________________________________________________________________\n",
      "max_pooling2d_13 (MaxPooling (None, 14, 14, 64)        0         \n",
      "_________________________________________________________________\n",
      "flatten_3 (Flatten)          (None, 12544)             0         \n",
      "_________________________________________________________________\n",
      "dropout_5 (Dropout)          (None, 12544)             0         \n",
      "_________________________________________________________________\n",
      "dense_5 (Dense)              (None, 15)                188175    \n",
      "_________________________________________________________________\n",
      "activation_18 (Activation)   (None, 15)                0         \n",
      "=================================================================\n",
      "Total params: 216,815\n",
      "Trainable params: 216,815\n",
      "Non-trainable params: 0\n",
      "_________________________________________________________________\n",
      "None\n"
     ]
    }
   ],
   "source": [
    "model = Sequential()\n",
    "\n",
    "# Add layers here\n",
    "\n",
    "model.add(Conv2D(32, (3, 3), input_shape=(128, 128, 3)))\n",
    "model.add(Activation('relu'))\n",
    "model.add(MaxPooling2D(pool_size=(2, 2)))\n",
    "\n",
    "model.add(Conv2D(32, (3, 3)))\n",
    "model.add(Activation('relu'))\n",
    "model.add(MaxPooling2D(pool_size=(2, 2)))\n",
    "\n",
    "model.add(Conv2D(64, (3, 3)))\n",
    "model.add(Activation('relu'))\n",
    "model.add(MaxPooling2D(pool_size=(2, 2)))\n",
    "\n",
    "model.add(Flatten())\n",
    "model.add(Dropout(0.2))\n",
    "model.add(Dense(num_classes))\n",
    "model.add(Activation(\"sigmoid\"))\n",
    "\n",
    "\n",
    "# binary_crossentropy\n",
    "model.compile(loss=bp_mll_loss, \n",
    "              optimizer='rmsprop', \n",
    "              metrics=['binary_accuracy', \"categorical_accuracy\", f1])\n",
    "\n",
    "test_f1_score_15 = []\n",
    "test_f1_score_14 = []\n",
    "train_loss = []\n",
    "test_loss = []\n",
    "train_bin_acc = []\n",
    "test_bin_acc = []\n",
    "\n",
    "print(model.summary())"
   ]
  },
  {
   "cell_type": "code",
   "execution_count": 24,
   "metadata": {},
   "outputs": [],
   "source": [
    "from keras.preprocessing.image import ImageDataGenerator\n",
    "\n",
    "train_datagen = ImageDataGenerator(\n",
    "                #rescale=1./255,\n",
    "                shear_range=0.2,\n",
    "                zoom_range=0.2,\n",
    "                horizontal_flip=True,\n",
    "                vertical_flip=True)"
   ]
  },
  {
   "cell_type": "code",
   "execution_count": 26,
   "metadata": {},
   "outputs": [
    {
     "name": "stdout",
     "output_type": "stream",
     "text": [
      "Epoch 1/2\n",
      "50/50 [==============================] - 21s - loss: 24.3232 - binary_accuracy: 0.7140 - categorical_accuracy: 0.3287 - f1: 0.3335 - val_loss: 22.0138 - val_binary_accuracy: 0.7783 - val_categorical_accuracy: 0.4625 - val_f1: 0.3911\n",
      "Epoch 2/2\n",
      "50/50 [==============================] - 19s - loss: 23.7008 - binary_accuracy: 0.7470 - categorical_accuracy: 0.3687 - f1: 0.3523 - val_loss: 21.8509 - val_binary_accuracy: 0.8247 - val_categorical_accuracy: 0.4625 - val_f1: 0.4106\n",
      "Epoch 1/2\n",
      "50/50 [==============================] - 19s - loss: 22.1720 - binary_accuracy: 0.7948 - categorical_accuracy: 0.4250 - f1: 0.4079 - val_loss: 22.7432 - val_binary_accuracy: 0.8270 - val_categorical_accuracy: 0.4475 - val_f1: 0.4190\n",
      "Epoch 2/2\n",
      "50/50 [==============================] - 19s - loss: 21.9049 - binary_accuracy: 0.8117 - categorical_accuracy: 0.4438 - f1: 0.4291 - val_loss: 22.5230 - val_binary_accuracy: 0.8452 - val_categorical_accuracy: 0.4275 - val_f1: 0.4403\n",
      "Epoch 1/2\n",
      "50/50 [==============================] - 19s - loss: 22.4642 - binary_accuracy: 0.8283 - categorical_accuracy: 0.4363 - f1: 0.4337 - val_loss: 21.5648 - val_binary_accuracy: 0.8573 - val_categorical_accuracy: 0.4600 - val_f1: 0.4707\n",
      "Epoch 2/2\n",
      "50/50 [==============================] - 21s - loss: 22.1928 - binary_accuracy: 0.8336 - categorical_accuracy: 0.4419 - f1: 0.4480 - val_loss: 21.3317 - val_binary_accuracy: 0.8233 - val_categorical_accuracy: 0.4625 - val_f1: 0.4369\n",
      "CPU times: user 9min 58s, sys: 1min 15s, total: 11min 13s\n",
      "Wall time: 2min 12s\n"
     ]
    }
   ],
   "source": [
    "%%time\n",
    "from sklearn.model_selection import train_test_split\n",
    "\n",
    "batch_size = 2000\n",
    "\n",
    "iterations = [0,2000,4000]\n",
    "\n",
    "\n",
    "for i in range(len(iterations)):\n",
    "    x_some, y_some = read_x(batch_size, iterations[i], y)\n",
    "    \n",
    "    # combine all val created here into final test set?\n",
    "    x_train, x_val, y_train, y_val = train_test_split(x_some, y_some, test_size=0.2, random_state=142)\n",
    "    epochs = 2\n",
    "\n",
    "    history = model.fit_generator(train_datagen.flow(x_train, y_train, batch_size=32),\n",
    "                                    steps_per_epoch=len(x_train) / 32, \n",
    "                                    epochs=epochs,\n",
    "                                    validation_data=(x_val, y_val))\n",
    "    "
   ]
  },
  {
   "cell_type": "code",
   "execution_count": 28,
   "metadata": {},
   "outputs": [],
   "source": [
    "threshold = 0.5\n",
    "\n",
    "pred = model.predict(x_test)\n",
    "pred[np.where(pred > threshold)] = 1\n",
    "pred[np.where(pred <= threshold)] = 0\n",
    "y_pred = pred.astype(np.bool)\n",
    "#y_pred = y_pred[:, :num_classes-1]"
   ]
  },
  {
   "cell_type": "code",
   "execution_count": 29,
   "metadata": {},
   "outputs": [
    {
     "name": "stdout",
     "output_type": "stream",
     "text": [
      "0.432692307692\n",
      "0.334633994069\n"
     ]
    }
   ],
   "source": [
    "from sklearn.metrics import f1_score\n",
    "y_true = y_test\n",
    "\n",
    "print(f1_score(y_true, y_pred, average='micro'))\n",
    "print(f1_score(y_true[:, :num_classes-1], y_pred[:, :num_classes-1], average='micro'))"
   ]
  },
  {
   "cell_type": "code",
   "execution_count": 41,
   "metadata": {},
   "outputs": [
    {
     "data": {
      "image/png": "[encoded data removed]",
      "text/plain": [
       "<matplotlib.figure.Figure at 0x7f92f1852160>"
      ]
     },
     "metadata": {},
     "output_type": "display_data"
    }
   ],
   "source": [
    "# Confusion matrices per label\n",
    "from sklearn.metrics import confusion_matrix\n",
    "\"\"\"\n",
    "# Old way of calculating\n",
    "true_pos = np.sum(y_test * y_pred, axis=0)\n",
    "pred_pos = np.sum(y_pred, axis = 0)\n",
    "false_pos = pred_pos - true_pos\n",
    "\n",
    "true_neg = np.sum(y_test == y_pred, axis=0) - true_pos \n",
    "pred_neg = np.sum(y_pred == 0, axis = 0)\n",
    "false_neg = pred_neg - true_neg\n",
    "\"\"\"\n",
    "\n",
    "\n",
    "\n",
    "plt.figure(figsize=(20, 10))\n",
    "\n",
    "for i in range(len(true_pos)):\n",
    "    \n",
    "    plt.subplot(3, 5, i+1)\n",
    "    \n",
    "    true_neg, false_pos, false_neg, true_pos = confusion_matrix(y_test[:,i], y_pred[:,i]).ravel()\n",
    "    \n",
    "    matrix = np.zeros((2,2), dtype=\"uint32\")\n",
    "    matrix[0,0] = true_pos\n",
    "    matrix[0,1] = false_neg\n",
    "    matrix[1,1] = true_neg\n",
    "    # sanity check: bottom left, predicted pos, true was neg\n",
    "    matrix[1,0] = false_pos\n",
    "\n",
    "    plt.imshow(matrix, \n",
    "               cmap=plt.cm.Blues, \n",
    "               interpolation='nearest',\n",
    "               vmin=0, vmax=10000)\n",
    "\n",
    "    for x in range(2):\n",
    "        for y in range(2):\n",
    "            plt.text(y, x, str(matrix[x,y]),\n",
    "                        fontsize=15,\n",
    "                        horizontalalignment='center',\n",
    "                        verticalalignment='center')\n",
    "\n",
    "    classes = [\"Pos\", \"Neg\"]\n",
    "    tick_marks = np.arange(len(classes))\n",
    "    plt.xticks(tick_marks, classes, rotation=45)\n",
    "    plt.yticks(tick_marks, classes)\n",
    "    plt.ylabel('True')\n",
    "    plt.xlabel('Pred')\n",
    "    plt.title(labels[i], fontsize=15)\n",
    "    \n",
    "\n",
    "plt.tight_layout()\n",
    "plt.show()"
   ]
  },
  {
   "cell_type": "code",
   "execution_count": 33,
   "metadata": {
    "scrolled": true
   },
   "outputs": [
    {
     "name": "stdout",
     "output_type": "stream",
     "text": [
      "Col 0\n",
      "Label baby\n",
      "True-Neg: 1992\n",
      "False-Neg: 8\n",
      "True-Pos: 0\n",
      "False-Pos: 0\n",
      "\n",
      "Col 1\n",
      "Label bird\n",
      "True-Neg: 1964\n",
      "False-Neg: 36\n",
      "True-Pos: 0\n",
      "False-Pos: 0\n",
      "\n",
      "Col 2\n",
      "Label car\n",
      "True-Neg: 1973\n",
      "False-Neg: 27\n",
      "True-Pos: 0\n",
      "False-Pos: 0\n",
      "\n",
      "Col 3\n",
      "Label clouds\n",
      "True-Neg: 1026\n",
      "False-Neg: 27\n",
      "True-Pos: 41\n",
      "False-Pos: 906\n",
      "\n",
      "Col 4\n",
      "Label dog\n",
      "True-Neg: 1939\n",
      "False-Neg: 61\n",
      "True-Pos: 0\n",
      "False-Pos: 0\n",
      "\n",
      "Col 5\n",
      "Label female\n",
      "True-Neg: 1345\n",
      "False-Neg: 196\n",
      "True-Pos: 137\n",
      "False-Pos: 322\n",
      "\n",
      "Col 6\n",
      "Label flower\n",
      "True-Neg: 1890\n",
      "False-Neg: 110\n",
      "True-Pos: 0\n",
      "False-Pos: 0\n",
      "\n",
      "Col 7\n",
      "Label male\n",
      "True-Neg: 1265\n",
      "False-Neg: 202\n",
      "True-Pos: 128\n",
      "False-Pos: 405\n",
      "\n",
      "Col 8\n",
      "Label night\n",
      "True-Neg: 1943\n",
      "False-Neg: 57\n",
      "True-Pos: 0\n",
      "False-Pos: 0\n",
      "\n",
      "Col 9\n",
      "Label people\n",
      "True-Neg: 0\n",
      "False-Neg: 0\n",
      "True-Pos: 666\n",
      "False-Pos: 1334\n",
      "\n",
      "Col 10\n",
      "Label portrait\n",
      "True-Neg: 1417\n",
      "False-Neg: 234\n",
      "True-Pos: 100\n",
      "False-Pos: 249\n",
      "\n",
      "Col 11\n",
      "Label river\n",
      "True-Neg: 1993\n",
      "False-Neg: 7\n",
      "True-Pos: 0\n",
      "False-Pos: 0\n",
      "\n",
      "Col 12\n",
      "Label sea\n",
      "True-Neg: 1975\n",
      "False-Neg: 25\n",
      "True-Pos: 0\n",
      "False-Pos: 0\n",
      "\n",
      "Col 13\n",
      "Label tree\n",
      "True-Neg: 1943\n",
      "False-Neg: 57\n",
      "True-Pos: 0\n",
      "False-Pos: 0\n",
      "\n",
      "Col 14\n",
      "Label unclassified\n",
      "True-Neg: 0\n",
      "False-Neg: 0\n",
      "True-Pos: 953\n",
      "False-Pos: 1047\n",
      "\n"
     ]
    }
   ],
   "source": [
    "from sklearn.metrics import confusion_matrix\n",
    "\n",
    "for i in range(y_train.shape[1]):\n",
    "    print(\"Col {}\".format(i))\n",
    "    tn, fp, fn, tp = confusion_matrix(y_test[:,i], y_pred[:,i]).ravel()\n",
    "    y_train.shape[1]\n",
    "    print(\"Label {}\".format(labels[i]))\n",
    "    print(\"True-Neg:\", tn)\n",
    "    print(\"False-Neg:\", fn)\n",
    "    print(\"True-Pos:\", tp)\n",
    "    print(\"False-Pos:\", fp)\n",
    "    print(\"\")"
   ]
  },
  {
   "cell_type": "markdown",
   "metadata": {},
   "source": [
    "## Save your model\n",
    "\n",
    "It might be useful to save your model if you want to continue your work later, or use it for inference later."
   ]
  },
  {
   "cell_type": "code",
   "execution_count": 135,
   "metadata": {},
   "outputs": [],
   "source": [
    "model.save('model.h5')"
   ]
  },
  {
   "cell_type": "markdown",
   "metadata": {},
   "source": [
    "The model file should now be visible in the \"Home\" screen of the jupyter notebooks interface.  There you should be able to select it and press \"download\"."
   ]
  },
  {
   "cell_type": "markdown",
   "metadata": {},
   "source": [
    "## Predict for test set\n",
    "\n",
    "You will be asked to return your prediction for the testset.  These should be returned as a matrix with one row for each test set image.  Each row contains a binary prediction for each label, 1 if it's present in the image, and 0 if not. The order of the labels is as follows (alphabetic order of the label names):\n",
    "\n",
    "    baby bird car clouds dog female flower male night people portrait river sea tree\n",
    "\n",
    "An example row could like like this if your system predicts the presense of a bird and clouds:\n",
    "\n",
    "    0 1 0 1 0 0 0 0 0 0 0 0 0 0\n",
    "    \n",
    "If you have the matrix prepared in `y` (e.g., by calling `y=model.predict(x_test)`) you can use the following function to save it to a text file."
   ]
  },
  {
   "cell_type": "code",
   "execution_count": null,
   "metadata": {},
   "outputs": [],
   "source": [
    "np.savetxt('results.txt', y, fmt='%d')"
   ]
  }
 ],
 "metadata": {
  "kernelspec": {
   "display_name": "Python 3",
   "language": "python",
   "name": "python3"
  },
  "language_info": {
   "codemirror_mode": {
    "name": "ipython",
    "version": 3
   },
   "file_extension": ".py",
   "mimetype": "text/x-python",
   "name": "python",
   "nbconvert_exporter": "python",
   "pygments_lexer": "ipython3",
   "version": "3.6.2"
  }
 },
 "nbformat": 4,
 "nbformat_minor": 2
}
